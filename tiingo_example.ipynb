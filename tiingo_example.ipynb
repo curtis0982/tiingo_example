{
 "cells": [
  {
   "cell_type": "code",
   "execution_count": null,
   "metadata": {},
   "outputs": [],
   "source": []
  },
  {
   "cell_type": "code",
   "execution_count": null,
   "metadata": {},
   "outputs": [],
   "source": []
  },
  {
   "cell_type": "code",
   "execution_count": null,
   "metadata": {},
   "outputs": [],
   "source": []
  },
  {
   "cell_type": "code",
   "execution_count": 12,
   "metadata": {},
   "outputs": [
    {
     "data": {
      "text/plain": [
       "True"
      ]
     },
     "execution_count": 12,
     "metadata": {},
     "output_type": "execute_result"
    }
   ],
   "source": [
    "# settings.py\n",
    "from dotenv import load_dotenv\n",
    "load_dotenv()\n",
    "\n",
    "# OR, the same with increased verbosity:\n",
    "load_dotenv(verbose=True)\n",
    "\n",
    "# OR, explicitly providing path to '.env'\n",
    "from pathlib import Path  # python3 only\n",
    "env_path = Path('D:\\python_code\\deep_learning_in_python\\stock\\tiingo_example') / '.env'\n",
    "load_dotenv(dotenv_path=env_path)"
   ]
  },
  {
   "cell_type": "code",
   "execution_count": 13,
   "metadata": {},
   "outputs": [],
   "source": [
    "# settings.py\n",
    "import os\n",
    "TIINGO_API_KEY = os.getenv(\"TIINGO_API_KEY\")"
   ]
  },
  {
   "cell_type": "code",
   "execution_count": 15,
   "metadata": {},
   "outputs": [],
   "source": [
    "from tiingo import TiingoClient\n",
    "# Set TIINGO_API_KEY in your environment variables in your .bash_profile, OR\n",
    "# pass a dictionary with 'api_key' as a key into the TiingoClient.\n",
    "\n",
    "client = TiingoClient()"
   ]
  },
  {
   "cell_type": "code",
   "execution_count": 16,
   "metadata": {},
   "outputs": [
    {
     "name": "stderr",
     "output_type": "stream",
     "text": [
      "ERROR:root:b'{\"detail\":\"You do not have permission to access the News API\"}'\n"
     ]
    },
    {
     "ename": "RestClientError",
     "evalue": "403 Client Error: Forbidden for url: https://api.tiingo.com/tiingo/news?limit=100&offset=0&sortBy=publishedDate&tickers=GOOGL&tickers=AAPL&source=washingtonpost.com&tags=Laptops&startDate=2017-01-01&endDate=2017-08-31&onlyWithTickers=False",
     "output_type": "error",
     "traceback": [
      "\u001b[1;31m---------------------------------------------------------------------------\u001b[0m",
      "\u001b[1;31mHTTPError\u001b[0m                                 Traceback (most recent call last)",
      "\u001b[1;32mC:\\Windows\\system32\\env002\\lib\\site-packages\\tiingo\\restclient.py\u001b[0m in \u001b[0;36m_request\u001b[1;34m(self, method, url, **kwargs)\u001b[0m\n\u001b[0;32m     52\u001b[0m         \u001b[1;32mtry\u001b[0m\u001b[1;33m:\u001b[0m\u001b[1;33m\u001b[0m\u001b[0m\n\u001b[1;32m---> 53\u001b[1;33m             \u001b[0mresp\u001b[0m\u001b[1;33m.\u001b[0m\u001b[0mraise_for_status\u001b[0m\u001b[1;33m(\u001b[0m\u001b[1;33m)\u001b[0m\u001b[1;33m\u001b[0m\u001b[0m\n\u001b[0m\u001b[0;32m     54\u001b[0m         \u001b[1;32mexcept\u001b[0m \u001b[0mHTTPError\u001b[0m \u001b[1;32mas\u001b[0m \u001b[0me\u001b[0m\u001b[1;33m:\u001b[0m\u001b[1;33m\u001b[0m\u001b[0m\n",
      "\u001b[1;32mC:\\Windows\\system32\\env002\\lib\\site-packages\\requests\\models.py\u001b[0m in \u001b[0;36mraise_for_status\u001b[1;34m(self)\u001b[0m\n\u001b[0;32m    939\u001b[0m         \u001b[1;32mif\u001b[0m \u001b[0mhttp_error_msg\u001b[0m\u001b[1;33m:\u001b[0m\u001b[1;33m\u001b[0m\u001b[0m\n\u001b[1;32m--> 940\u001b[1;33m             \u001b[1;32mraise\u001b[0m \u001b[0mHTTPError\u001b[0m\u001b[1;33m(\u001b[0m\u001b[0mhttp_error_msg\u001b[0m\u001b[1;33m,\u001b[0m \u001b[0mresponse\u001b[0m\u001b[1;33m=\u001b[0m\u001b[0mself\u001b[0m\u001b[1;33m)\u001b[0m\u001b[1;33m\u001b[0m\u001b[0m\n\u001b[0m\u001b[0;32m    941\u001b[0m \u001b[1;33m\u001b[0m\u001b[0m\n",
      "\u001b[1;31mHTTPError\u001b[0m: 403 Client Error: Forbidden for url: https://api.tiingo.com/tiingo/news?limit=100&offset=0&sortBy=publishedDate&tickers=GOOGL&tickers=AAPL&source=washingtonpost.com&tags=Laptops&startDate=2017-01-01&endDate=2017-08-31&onlyWithTickers=False",
      "\nDuring handling of the above exception, another exception occurred:\n",
      "\u001b[1;31mRestClientError\u001b[0m                           Traceback (most recent call last)",
      "\u001b[1;32m<ipython-input-16-84edc67f5b0a>\u001b[0m in \u001b[0;36m<module>\u001b[1;34m\u001b[0m\n\u001b[0;32m     20\u001b[0m                             \u001b[0msources\u001b[0m\u001b[1;33m=\u001b[0m\u001b[1;33m[\u001b[0m\u001b[1;34m'washingtonpost.com'\u001b[0m\u001b[1;33m]\u001b[0m\u001b[1;33m,\u001b[0m\u001b[1;33m\u001b[0m\u001b[0m\n\u001b[0;32m     21\u001b[0m                             \u001b[0mstartDate\u001b[0m\u001b[1;33m=\u001b[0m\u001b[1;34m'2017-01-01'\u001b[0m\u001b[1;33m,\u001b[0m\u001b[1;33m\u001b[0m\u001b[0m\n\u001b[1;32m---> 22\u001b[1;33m                             endDate='2017-08-31')\n\u001b[0m",
      "\u001b[1;32mC:\\Windows\\system32\\env002\\lib\\site-packages\\tiingo\\api.py\u001b[0m in \u001b[0;36mget_news\u001b[1;34m(self, tickers, tags, sources, startDate, endDate, limit, offset, sortBy, onlyWithTickers, fmt)\u001b[0m\n\u001b[0;32m    312\u001b[0m             \u001b[1;34m'onlyWithTickers'\u001b[0m\u001b[1;33m:\u001b[0m \u001b[0monlyWithTickers\u001b[0m\u001b[1;33m\u001b[0m\u001b[0m\n\u001b[0;32m    313\u001b[0m         }\n\u001b[1;32m--> 314\u001b[1;33m         \u001b[0mresponse\u001b[0m \u001b[1;33m=\u001b[0m \u001b[0mself\u001b[0m\u001b[1;33m.\u001b[0m\u001b[0m_request\u001b[0m\u001b[1;33m(\u001b[0m\u001b[1;34m'GET'\u001b[0m\u001b[1;33m,\u001b[0m \u001b[0murl\u001b[0m\u001b[1;33m,\u001b[0m \u001b[0mparams\u001b[0m\u001b[1;33m=\u001b[0m\u001b[0mparams\u001b[0m\u001b[1;33m)\u001b[0m\u001b[1;33m\u001b[0m\u001b[0m\n\u001b[0m\u001b[0;32m    315\u001b[0m         \u001b[0mdata\u001b[0m \u001b[1;33m=\u001b[0m \u001b[0mresponse\u001b[0m\u001b[1;33m.\u001b[0m\u001b[0mjson\u001b[0m\u001b[1;33m(\u001b[0m\u001b[1;33m)\u001b[0m\u001b[1;33m\u001b[0m\u001b[0m\n\u001b[0;32m    316\u001b[0m         \u001b[1;32mif\u001b[0m \u001b[0mfmt\u001b[0m \u001b[1;33m==\u001b[0m \u001b[1;34m'json'\u001b[0m\u001b[1;33m:\u001b[0m\u001b[1;33m\u001b[0m\u001b[0m\n",
      "\u001b[1;32mC:\\Windows\\system32\\env002\\lib\\site-packages\\tiingo\\restclient.py\u001b[0m in \u001b[0;36m_request\u001b[1;34m(self, method, url, **kwargs)\u001b[0m\n\u001b[0;32m     54\u001b[0m         \u001b[1;32mexcept\u001b[0m \u001b[0mHTTPError\u001b[0m \u001b[1;32mas\u001b[0m \u001b[0me\u001b[0m\u001b[1;33m:\u001b[0m\u001b[1;33m\u001b[0m\u001b[0m\n\u001b[0;32m     55\u001b[0m             \u001b[0mlogging\u001b[0m\u001b[1;33m.\u001b[0m\u001b[0merror\u001b[0m\u001b[1;33m(\u001b[0m\u001b[0mresp\u001b[0m\u001b[1;33m.\u001b[0m\u001b[0mcontent\u001b[0m\u001b[1;33m)\u001b[0m\u001b[1;33m\u001b[0m\u001b[0m\n\u001b[1;32m---> 56\u001b[1;33m             \u001b[1;32mraise\u001b[0m \u001b[0mRestClientError\u001b[0m\u001b[1;33m(\u001b[0m\u001b[0me\u001b[0m\u001b[1;33m)\u001b[0m\u001b[1;33m\u001b[0m\u001b[0m\n\u001b[0m\u001b[0;32m     57\u001b[0m \u001b[1;33m\u001b[0m\u001b[0m\n\u001b[0;32m     58\u001b[0m         \u001b[1;32mreturn\u001b[0m \u001b[0mresp\u001b[0m\u001b[1;33m\u001b[0m\u001b[0m\n",
      "\u001b[1;31mRestClientError\u001b[0m: 403 Client Error: Forbidden for url: https://api.tiingo.com/tiingo/news?limit=100&offset=0&sortBy=publishedDate&tickers=GOOGL&tickers=AAPL&source=washingtonpost.com&tags=Laptops&startDate=2017-01-01&endDate=2017-08-31&onlyWithTickers=False"
     ]
    }
   ],
   "source": [
    "ticker_metadata = client.get_ticker_metadata(\"GOOGL\")\n",
    "\n",
    "# Get latest prices, based on 3+ sources as JSON, sampled weekly\n",
    "ticker_price = client.get_ticker_price(\"GOOGL\", frequency=\"weekly\")\n",
    "\n",
    "# Get historical GOOGL prices from August 2017 as JSON, sampled daily\n",
    "historical_prices = client.get_ticker_price(\"GOOGL\",\n",
    "                                            fmt='json',\n",
    "                                            startDate='2017-08-01',\n",
    "                                            endDate='2017-08-31',\n",
    "                                            frequency='daily')\n",
    "\n",
    "# Check what tickers are available, as well as metadata about each ticker\n",
    "# including supported currency, exchange, and available start/end dates.\n",
    "tickers = client.list_stock_tickers()\n",
    "\n",
    "# Get news articles about given tickers or search terms from given domains\n",
    "articles = client.get_news(tickers=['GOOGL', 'AAPL'],\n",
    "                            tags=['Laptops'],\n",
    "                            sources=['washingtonpost.com'],\n",
    "                            startDate='2017-01-01',\n",
    "                            endDate='2017-08-31')"
   ]
  },
  {
   "cell_type": "code",
   "execution_count": null,
   "metadata": {},
   "outputs": [],
   "source": []
  }
 ],
 "metadata": {
  "kernelspec": {
   "display_name": "env002",
   "language": "python",
   "name": "env002"
  },
  "language_info": {
   "codemirror_mode": {
    "name": "ipython",
    "version": 3
   },
   "file_extension": ".py",
   "mimetype": "text/x-python",
   "name": "python",
   "nbconvert_exporter": "python",
   "pygments_lexer": "ipython3",
   "version": "3.6.5"
  }
 },
 "nbformat": 4,
 "nbformat_minor": 2
}
